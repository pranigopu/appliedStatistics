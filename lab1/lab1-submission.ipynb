{
  "nbformat": 4,
  "nbformat_minor": 0,
  "metadata": {
    "colab": {
      "provenance": []
    },
    "kernelspec": {
      "name": "python3",
      "display_name": "Python 3"
    },
    "language_info": {
      "name": "python"
    }
  },
  "cells": [
    {
      "cell_type": "markdown",
      "source": [
        "# Question 1"
      ],
      "metadata": {
        "id": "FNFWDOKtRAZX"
      }
    },
    {
      "cell_type": "markdown",
      "source": [
        "A counting measure is a measure (applicable to sets of discrete elements) that inputs a set and returns its cardinality, i.e. the number of elements it holds."
      ],
      "metadata": {
        "id": "0Uy_zw8OWhxh"
      }
    },
    {
      "cell_type": "code",
      "source": [
        "# Defining the counting measure as a function\n",
        "# inputting set S & outputting its length\n",
        "\n",
        "# NOTE: In this implementation, S may be\n",
        "# any data structure representing a collection of elements\n",
        "# (list, tuple, set, etc.)\n",
        "def countingMeasure(S):\n",
        "  # Using a try-except block to ensure S is a collection data type\n",
        "  try:\n",
        "    return len(S)\n",
        "  except:\n",
        "    return \"Invalid data type\""
      ],
      "metadata": {
        "id": "wo89vrr5RWMy"
      },
      "execution_count": 1,
      "outputs": []
    },
    {
      "cell_type": "code",
      "source": [
        "# Testing the function\n",
        "#------------------------\n",
        "# Valid case:\n",
        "print(\"Counting measure for set {1, 2, 3}:\", countingMeasure({1, 2, 3}))\n",
        "# Invalid case:\n",
        "print(\"Counting measure for integer 3:\", countingMeasure(3))"
      ],
      "metadata": {
        "colab": {
          "base_uri": "https://localhost:8080/"
        },
        "id": "fnJsiaN6RgfK",
        "outputId": "a0f8480b-8278-4ee2-e211-952e8b985a4b"
      },
      "execution_count": 2,
      "outputs": [
        {
          "output_type": "stream",
          "name": "stdout",
          "text": [
            "Counting measure for set {1, 2, 3}: 3\n",
            "Counting measure for integer 3: Invalid data type\n"
          ]
        }
      ]
    },
    {
      "cell_type": "markdown",
      "source": [
        "Additivity is the property of a measure $M$ wherein if we have two disjoint sets $A$ and $B$, then:<br> $M(A \\bigcup B)=M(A)+M(B)$"
      ],
      "metadata": {
        "id": "ZuVoLKIUTdjc"
      }
    },
    {
      "cell_type": "code",
      "source": [
        "# Defining two disjoint sets A & B\n",
        "A, B = {'a', 'b', 'c'}, {'d', 'e', 'f'}\n",
        "print(\"With M as the counting measure, we have...\")\n",
        "print(\"M(A union B) =\", countingMeasure(A.union(B)))\n",
        "print(\"M(A) + M(B) =\", countingMeasure(A) + countingMeasure(B))"
      ],
      "metadata": {
        "colab": {
          "base_uri": "https://localhost:8080/"
        },
        "id": "lXLCw9DoUhub",
        "outputId": "c6d69071-8273-4e99-8363-700cb0216538"
      },
      "execution_count": 3,
      "outputs": [
        {
          "output_type": "stream",
          "name": "stdout",
          "text": [
            "With M as the counting measure, we have...\n",
            "M(A union B) = 6\n",
            "M(A) + M(B) = 6\n"
          ]
        }
      ]
    },
    {
      "cell_type": "markdown",
      "source": [
        "Hence, we see that the counting measure satisfies additivity."
      ],
      "metadata": {
        "id": "DXN0itC0ebBk"
      }
    },
    {
      "cell_type": "markdown",
      "source": [
        "# Question 2"
      ],
      "metadata": {
        "id": "lHK4mpakWJhb"
      }
    },
    {
      "cell_type": "markdown",
      "source": [
        "A length measure for an interval (a continuous range of points) is a measure that inputs an interval and returns its length (i.e. upper bound minus lower bound)."
      ],
      "metadata": {
        "id": "_HYuf-7gWq3t"
      }
    },
    {
      "cell_type": "code",
      "source": [
        "# Defining a class to input intervals\n",
        "\n",
        "# NOTE: In this implementation, we will not make\n",
        "# the distinction between closed & open intervals\n",
        "class Interval:\n",
        "  def __init__(self, lb, ub): # lb = lower bound, ub = upper bound\n",
        "    # If the lower bound exceeds the upper bound, it is an invalid interval\n",
        "    if lb > ub:\n",
        "      return None\n",
        "    self.lb = lb\n",
        "    self.ub = ub"
      ],
      "metadata": {
        "id": "OIP2IhGoWuWM"
      },
      "execution_count": 4,
      "outputs": []
    },
    {
      "cell_type": "code",
      "source": [
        "# Defining the length measure as a function\n",
        "# inputting an interval I & outputting the difference between its bounds\n",
        "def lengthMeasure(I):\n",
        "  # Using a try-except block to ensure S is an object of the \"Interval\" class\n",
        "  try:\n",
        "    return I.ub - I.lb\n",
        "  except:\n",
        "    return \"Invalid interval\""
      ],
      "metadata": {
        "id": "LN6d_A-fXus_"
      },
      "execution_count": 5,
      "outputs": []
    },
    {
      "cell_type": "code",
      "source": [
        "# Testing the function\n",
        "#------------------------\n",
        "# Valid case:\n",
        "print(\"Length measure for interval [1, 3]:\", lengthMeasure(Interval(1, 3)))\n",
        "# Invalid case 1 (invalid interval instantiation):\n",
        "print(\"Length measure for interval [3, 1]:\", lengthMeasure(Interval(3, 1)))\n",
        "# Invalid case 2 (invalid argument type):\n",
        "print(\"Length measure for integer 3:\", lengthMeasure(3))"
      ],
      "metadata": {
        "colab": {
          "base_uri": "https://localhost:8080/"
        },
        "id": "YBXLxZg-ZH3B",
        "outputId": "56ded403-a35c-43cd-d7b3-b8547f38c2f6"
      },
      "execution_count": 6,
      "outputs": [
        {
          "output_type": "stream",
          "name": "stdout",
          "text": [
            "Length measure for interval [1, 3]: 2\n",
            "Length measure for interval [3, 1]: Invalid interval\n",
            "Length measure for integer 3: Invalid interval\n"
          ]
        }
      ]
    },
    {
      "cell_type": "markdown",
      "source": [
        "Now to apply the test case $[1, 3.5]$..."
      ],
      "metadata": {
        "id": "u064kCn0cX0L"
      }
    },
    {
      "cell_type": "code",
      "source": [
        "print(\"Length measure for interval [1, 7]:\", lengthMeasure(Interval(1, 3.5)))"
      ],
      "metadata": {
        "colab": {
          "base_uri": "https://localhost:8080/"
        },
        "id": "ApmSgEw-cz4C",
        "outputId": "04725c07-8c72-4035-bf49-823138c92bf8"
      },
      "execution_count": 7,
      "outputs": [
        {
          "output_type": "stream",
          "name": "stdout",
          "text": [
            "Length measure for interval [1, 7]: 2.5\n"
          ]
        }
      ]
    },
    {
      "cell_type": "markdown",
      "source": [
        "# Question 3"
      ],
      "metadata": {
        "id": "Li8UkS0vdFdf"
      }
    },
    {
      "cell_type": "markdown",
      "source": [
        "The exponential distribution function is defined as: <br>$f(x)=exp(-x)=e^{-x}$"
      ],
      "metadata": {
        "id": "UNDGU-Ixm0uJ"
      }
    },
    {
      "cell_type": "markdown",
      "source": [
        "The parameter $\\lambda$ (lambda) is a commonly used rate parameter for the exponential distribution, such that: <br>$f(x)=\\lambda e^{-\\lambda x}$"
      ],
      "metadata": {
        "id": "uj_f0FebnF-P"
      }
    },
    {
      "cell_type": "markdown",
      "source": [
        "This exponential distribution function is encoded in the `scipy.stats.expon` class. Having instantiated this class, the probability density function (PDF) and the cumulative distribution function (CDF) can be computed for a point or a collection of points by passing this point or collection of points as an argument to the respective class methods `.pdf` and `.cdf`."
      ],
      "metadata": {
        "id": "u9CtWlOqonu8"
      }
    },
    {
      "cell_type": "markdown",
      "source": [
        "**NOTE ON THE PARAMETER** $\\lambda$:<br>According to the documentation of the `scipy.stats.expon` class (link: <a>https://docs.scipy.org/doc/scipy/reference/generated/scipy.stats.expon.html</a>), this parameter is encoded in the `scale` attribute of the `scipy.stats.expon` class, wherein `scale` = $\\frac{1}{\\lambda}$. Thus, to put $\\lambda = 2$ (as asked in question 3), we must set the `scale` attribute as $1/2$ during class instantiation."
      ],
      "metadata": {
        "id": "0NTC3CPxn-SP"
      }
    },
    {
      "cell_type": "markdown",
      "source": [
        "**NOTE ON THE CALCULATION OF PROBABILITY MASS FOR AN INTERVAL**:<br>To calculate the probability mass of an interval $[a,b]$, we calculate<br>$CDF(b)-CDF(a)$"
      ],
      "metadata": {
        "id": "U8f5MVjSqHwa"
      }
    },
    {
      "cell_type": "code",
      "source": [
        "# Importing the required module\n",
        "import scipy.stats as stats"
      ],
      "metadata": {
        "id": "3SWYeqi37yF0"
      },
      "execution_count": 8,
      "outputs": []
    },
    {
      "cell_type": "code",
      "source": [
        "# Instantiating a distribution with lambda = 2 (i.e. scale = 1/2)\n",
        "f = stats.expon(scale=1/2)\n",
        "# We could instantiate the above in the function,\n",
        "# but this is more efficient here\n",
        "\n",
        "# Defining the probability mass calculation function for intervals\n",
        "def expon_measure(I):\n",
        "  # Calculating the probability mass of the interval I\n",
        "  # (We are using a try-except block to ensure the data type is correct)\n",
        "  try:\n",
        "    return f.cdf(I.ub) - f.cdf(I.lb)\n",
        "  except:\n",
        "    return \"Invalid interval\""
      ],
      "metadata": {
        "id": "KUC51uCJda8O"
      },
      "execution_count": 9,
      "outputs": []
    },
    {
      "cell_type": "markdown",
      "source": [
        "Computing for the test cases..."
      ],
      "metadata": {
        "id": "ed1qiSGKrLZw"
      }
    },
    {
      "cell_type": "code",
      "source": [
        "print(\"Probability mass of [0, 1] =\", expon_measure(Interval(0, 1)))\n",
        "print(\"Probability mass of [1, 1] =\", expon_measure(Interval(1, 1)))\n",
        "print(\"Probability mass of [1, 10] =\", expon_measure(Interval(1, 10)))\n",
        "print(\"Probability mass of (0, infinity) =\",\n",
        "      expon_measure(Interval(0, float(\"inf\"))))\n",
        "# NOTE: Probability mass of the entire distribution = 1"
      ],
      "metadata": {
        "colab": {
          "base_uri": "https://localhost:8080/"
        },
        "id": "PcNV7-7Xrc7X",
        "outputId": "820885d9-1d0f-4c7f-8f05-91867515442e"
      },
      "execution_count": 10,
      "outputs": [
        {
          "output_type": "stream",
          "name": "stdout",
          "text": [
            "Probability mass of [0, 1] = 0.8646647167633873\n",
            "Probability mass of [1, 1] = 0.0\n",
            "Probability mass of [1, 10] = 0.13533528117545912\n",
            "Probability mass of (0, infinity) = 1.0\n"
          ]
        }
      ]
    },
    {
      "cell_type": "markdown",
      "source": [
        "Plotting the exponential distribution PDF with $\\lambda=2$ (this distribution shall be denoted as Exp(2), as given in question 3)..."
      ],
      "metadata": {
        "id": "b_2qy1xnsSi5"
      }
    },
    {
      "cell_type": "code",
      "source": [
        "# For plotting functionalities:\n",
        "from matplotlib.pyplot import plot, title, xlabel, ylabel, show\n",
        "# To give as a large set of points in the domain space:\n",
        "from numpy import linspace\n",
        "x = linspace(0, 12, 100)\n",
        "y = f.pdf(x)\n",
        "title(\"Plotting Exp(2)\")\n",
        "plot(x, y)\n",
        "xlabel(\"x\")\n",
        "ylabel(\"y\")\n",
        "show()"
      ],
      "metadata": {
        "colab": {
          "base_uri": "https://localhost:8080/",
          "height": 472
        },
        "id": "pHTk2SKSsn7K",
        "outputId": "840d52ed-607b-4ffe-91c2-e173060f42b0"
      },
      "execution_count": 11,
      "outputs": [
        {
          "output_type": "display_data",
          "data": {
            "text/plain": [
              "<Figure size 640x480 with 1 Axes>"
            ],
            "image/png": "[encoded data removed]"
          },
          "metadata": {}
        }
      ]
    },
    {
      "cell_type": "markdown",
      "source": [
        "**OBSERVATIONS**:<br>Here, we can visually grasp that the area under the curve for the interval $[0,1]$ on the x-axis is much larger than the area under the curve for the interval $[1, 10]$. Secondly, the interval $[1, 1]$ is essentially a single point $x=1$, and the probability mass of any single point in a continuous distribution is zero. Lastly, the support of the exponential distribution (as can be seen to some extent in the graph) is $[0,\\infty)$, which means the probability mass of the interval $[0,\\infty)$ is the probability mass of the whole distribution, which has to be 1. Thus, all the results make sense."
      ],
      "metadata": {
        "id": "BhfoCiQltuoG"
      }
    },
    {
      "cell_type": "markdown",
      "source": [
        "# Question 4"
      ],
      "metadata": {
        "id": "X7JRqcc3vae1"
      }
    },
    {
      "cell_type": "code",
      "source": [
        "# Instantiating a distribution with lambda = 2 (i.e. scale = 1/2)\n",
        "f = stats.expon(scale=1/2)\n",
        "# We could instantiate it in the function,\n",
        "# but this is more efficient here\n",
        "\n",
        "# Defining the probability density calculation function\n",
        "def expon_pdf(x):\n",
        "  # Calculating the probability density of point x\n",
        "  # (We are using a try-except block to ensure the data type is correct)\n",
        "  try:\n",
        "    return f.pdf(x)\n",
        "  except:\n",
        "    return \"Non-numerical input(s)\""
      ],
      "metadata": {
        "id": "yg3TLjjCvcSj"
      },
      "execution_count": 12,
      "outputs": []
    },
    {
      "cell_type": "code",
      "source": [
        "# Importing the required function to do integration\n",
        "from scipy.integrate import quad\n",
        "# Importing the constant numpy.inf to represent infinity\n",
        "from numpy import inf"
      ],
      "metadata": {
        "id": "uubPr27y7Ga5"
      },
      "execution_count": 13,
      "outputs": []
    },
    {
      "cell_type": "markdown",
      "source": [
        "\n",
        "**NOTE ON REPRESENTING INFINITY IN INTEGRATION BOUNDS**:<br>he requirement for `numpy.inf` for denoting infinity (negative or positive) in the upper or lower bounds of integration is mentioned in the documentation of scipy.integrate.quad, link: https://docs.scipy.org/doc/scipy/reference/generated/scipy.integrate.quad.html."
      ],
      "metadata": {
        "id": "JXMrB1QC8rx-"
      }
    },
    {
      "cell_type": "markdown",
      "source": [
        "**NOTE ON THE RETURN VALUE OF** `scipy.integrate.quad`:<br>At its basic usage (which we shall deal with), function `quad` returns a tuple containing two values: (1) the definite integral of the given function for the given bounds, and (2) the estimate of the absolute (i.e. unsigned) error, i.e. the estimate of the difference between the computed integral and its actual value."
      ],
      "metadata": {
        "id": "QWdNisBj-w6s"
      }
    },
    {
      "cell_type": "markdown",
      "source": [
        "Computing the given integrals..."
      ],
      "metadata": {
        "id": "eSFCcK_H9x0K"
      }
    },
    {
      "cell_type": "code",
      "source": [
        "# The dictionary relating the question to the desired integration bounds\n",
        "IB = {\n",
        "    \"a\": [0, 1],\n",
        "    \"b\": [1, 1],\n",
        "    \"c\": [1, 10],\n",
        "    \"d\": [0, inf]}\n",
        "# Looping through the desired integration bounds & printing the results\n",
        "for ib in IB:\n",
        "  result = quad(expon_pdf, IB[ib][0], IB[ib][1])\n",
        "  print(f\"({ib}):\\nComputed integral = {result[0]}\")\n",
        "  print(f\"Estimated error = {result[1]}\")"
      ],
      "metadata": {
        "colab": {
          "base_uri": "https://localhost:8080/"
        },
        "id": "VGJlTFyZ-BJa",
        "outputId": "96ddf516-0a2e-4898-fedb-6054e2a1e83d"
      },
      "execution_count": 14,
      "outputs": [
        {
          "output_type": "stream",
          "name": "stdout",
          "text": [
            "(a):\n",
            "Computed integral = 0.8646647167633872\n",
            "Estimated error = 9.59970677131702e-15\n",
            "(b):\n",
            "Computed integral = 0.0\n",
            "Estimated error = 0.0\n",
            "(c):\n",
            "Computed integral = 0.13533528117545912\n",
            "Estimated error = 2.4502060294750603e-09\n",
            "(d):\n",
            "Computed integral = 0.9999999999999999\n",
            "Estimated error = 1.547006406148436e-10\n"
          ]
        }
      ]
    },
    {
      "cell_type": "markdown",
      "source": [
        "We have looped through the results in the above manner to conveniently present both aspects of the result of the `quad` function: the computed integral and the estimated error for this computation. This helps us acknowledge possible discrepancies between what we evaluate mathematically (ex. using the CDF function) and what we get through brute computation, allowing us to compare these results with those of question 3 more insightfully."
      ],
      "metadata": {
        "id": "RoZgivMyD5mw"
      }
    },
    {
      "cell_type": "markdown",
      "source": [
        "**OBSERVATIONS**:<br>Thus, we observe that the computer integrals here are practically equal to the probability measures obtained using the CDF in question 3 (*accounting for small computational errors due to the computational limits of precision*). The reason of this is the following...<br><br>The CDF defined at any point $x$ on the domain is essentially the integral of the PDF within the bounds $(-\\infty,x]$. Hence, the difference between the CDF values of two points on the domain, say $x_1$ and $x_2$, is essentially the integral of the PDF within the bounds $[x_1, x_2]$. For this reason, we see practically the same results for questions 3 and 4 for the given intervals and for the given exponential distribution (with the rate parameter $\\lambda = 2$).<br><br>***To rephrase in terms of probability mass***...<br>We have that the CDF of a point $x$ gives the probability mass of the part of the distribution at and below $x$, while the integral of the PDF within the bounds $[x_1, x_2]$ gives the probability mass of the part of the distribution between $x_1$ and $x_2$. Hence, the difference between the CDF values of two points on the domain, say $x_1$ and $x_2$, is the difference between the probability masses of the parts of the distribution at and below $x_1$ and $x_2$ respectively, which is in fact the probablity mass of the part of the distribution between $x_1$ and $x_2$. For this reason, we see practically the same results for questions 3 and 4 for the given intervals and for the given exponential distribution (with the rate parameter $\\lambda = 2$)."
      ],
      "metadata": {
        "id": "pJRRIcmFE3GX"
      }
    }
  ]
}
